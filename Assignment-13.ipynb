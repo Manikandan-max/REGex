{
  "nbformat": 4,
  "nbformat_minor": 0,
  "metadata": {
    "colab": {
      "name": "Assignment-13.ipynb",
      "provenance": []
    },
    "kernelspec": {
      "name": "python3",
      "display_name": "Python 3"
    },
    "language_info": {
      "name": "python"
    },
    "accelerator": "GPU"
  },
  "cells": [
    {
      "cell_type": "markdown",
      "metadata": {
        "id": "GPnmI780DRr9"
      },
      "source": [
        "# **Assignment 13** - CIFAR-10\n",
        "Register Id: SIRSS1021\n",
        "\n",
        "Name: Manikandan V\n",
        "\n",
        "College: St. Joseph's Institute of Management\n"
      ]
    },
    {
      "cell_type": "code",
      "metadata": {
        "id": "G6PgQ444DxT-"
      },
      "source": [
        "from keras.datasets import cifar10\n",
        "\n",
        "import matplotlib.pyplot as plt\n",
        "from keras import models,layers\n",
        "from tensorflow.keras.utils import to_categorical\n",
        "from keras import optimizers"
      ],
      "execution_count": 24,
      "outputs": []
    },
    {
      "cell_type": "code",
      "metadata": {
        "colab": {
          "base_uri": "https://localhost:8080/"
        },
        "id": "x1fhAfQ_D8iV",
        "outputId": "7a7dd01d-816c-4995-81ea-2b8073564185"
      },
      "source": [
        "(x_train, y_train), (x_test, y_test) = cifar10.load_data()\n",
        "print(x_train.shape)\n",
        "print(x_test.shape)\n",
        "print(y_train.shape)\n",
        "print(y_test.shape)"
      ],
      "execution_count": 25,
      "outputs": [
        {
          "output_type": "stream",
          "text": [
            "(50000, 32, 32, 3)\n",
            "(10000, 32, 32, 3)\n",
            "(50000, 1)\n",
            "(10000, 1)\n"
          ],
          "name": "stdout"
        }
      ]
    },
    {
      "cell_type": "code",
      "metadata": {
        "id": "vw_GNx3BD8sg"
      },
      "source": [
        "x_train = x_train.astype('float32')\n",
        "x_test = x_test.astype('float32')"
      ],
      "execution_count": 26,
      "outputs": []
    },
    {
      "cell_type": "code",
      "metadata": {
        "id": "RsQqQNgHEQ0J"
      },
      "source": [
        "x_train = x_train/255   \n",
        "x_test = x_test/255\n",
        "y_train = to_categorical(y_train)\n",
        "y_test = to_categorical(y_test)"
      ],
      "execution_count": 27,
      "outputs": []
    },
    {
      "cell_type": "code",
      "metadata": {
        "colab": {
          "base_uri": "https://localhost:8080/",
          "height": 266
        },
        "id": "uvYEc8iVEh18",
        "outputId": "4b9a1c0c-87b8-4da1-86c2-5bc9c3087457"
      },
      "source": [
        "plt.imshow(x_train[5000])\n",
        "plt.show()"
      ],
      "execution_count": 28,
      "outputs": [
        {
          "output_type": "display_data",
          "data": {
            "image/png": "[encoded data removed]",
            "text/plain": [
              "<Figure size 432x288 with 1 Axes>"
            ]
          },
          "metadata": {
            "tags": [],
            "needs_background": "light"
          }
        }
      ]
    },
    {
      "cell_type": "code",
      "metadata": {
        "colab": {
          "base_uri": "https://localhost:8080/"
        },
        "id": "gbrfyNSsFxn1",
        "outputId": "c34fdae7-e517-43bc-e8bb-c12fc87f44de"
      },
      "source": [
        "print(x_train[100])"
      ],
      "execution_count": 29,
      "outputs": [
        {
          "output_type": "stream",
          "text": [
            "[[[0.8352941  0.8980392  0.9490196 ]\n",
            "  [0.827451   0.8901961  0.9411765 ]\n",
            "  [0.827451   0.8901961  0.9411765 ]\n",
            "  ...\n",
            "  [0.5921569  0.68235296 0.80784315]\n",
            "  [0.5921569  0.68235296 0.80784315]\n",
            "  [0.58431375 0.6745098  0.8       ]]\n",
            "\n",
            " [[0.8392157  0.8980392  0.94509804]\n",
            "  [0.83137256 0.8901961  0.9372549 ]\n",
            "  [0.83137256 0.8901961  0.9372549 ]\n",
            "  ...\n",
            "  [0.59607846 0.6862745  0.8117647 ]\n",
            "  [0.59607846 0.6862745  0.8117647 ]\n",
            "  [0.5921569  0.68235296 0.8039216 ]]\n",
            "\n",
            " [[0.84705883 0.8980392  0.9372549 ]\n",
            "  [0.8392157  0.8901961  0.92941177]\n",
            "  [0.8352941  0.8901961  0.92941177]\n",
            "  ...\n",
            "  [0.6        0.6901961  0.80784315]\n",
            "  [0.6        0.6901961  0.80784315]\n",
            "  [0.5921569  0.68235296 0.8       ]]\n",
            "\n",
            " ...\n",
            "\n",
            " [[0.5686275  0.62352943 0.64705884]\n",
            "  [0.53333336 0.5803922  0.6039216 ]\n",
            "  [0.56078434 0.59607846 0.61960787]\n",
            "  ...\n",
            "  [0.84705883 0.8509804  0.80784315]\n",
            "  [0.76862746 0.77254903 0.7490196 ]\n",
            "  [0.7176471  0.7176471  0.7137255 ]]\n",
            "\n",
            " [[0.54509807 0.6        0.62352943]\n",
            "  [0.5058824  0.5568628  0.5803922 ]\n",
            "  [0.5058824  0.54509807 0.5686275 ]\n",
            "  ...\n",
            "  [0.8901961  0.89411765 0.85882354]\n",
            "  [0.8745098  0.8784314  0.85882354]\n",
            "  [0.81960785 0.81960785 0.81960785]]\n",
            "\n",
            " [[0.5372549  0.59607846 0.6156863 ]\n",
            "  [0.56078434 0.60784316 0.6313726 ]\n",
            "  [0.53333336 0.5686275  0.59607846]\n",
            "  ...\n",
            "  [0.81960785 0.81960785 0.79607844]\n",
            "  [0.8509804  0.8509804  0.8352941 ]\n",
            "  [0.89411765 0.89411765 0.8862745 ]]]\n"
          ],
          "name": "stdout"
        }
      ]
    },
    {
      "cell_type": "markdown",
      "metadata": {
        "id": "cNJ6NIwhF9Lr"
      },
      "source": [
        "Model Building"
      ]
    },
    {
      "cell_type": "code",
      "metadata": {
        "id": "pZrwHyYxF14D"
      },
      "source": [
        "model = models.Sequential()\n"
      ],
      "execution_count": 30,
      "outputs": []
    },
    {
      "cell_type": "code",
      "metadata": {
        "id": "p1F_rC0SGE16"
      },
      "source": [
        "model.add(layers.Conv2D(32, (3, 3), padding='same', activation='relu', input_shape=(32,32,3)))\n",
        "model.add(layers.Conv2D(32,(3,3), padding='same',activation='relu'))\n",
        "model.add(layers.MaxPooling2D(pool_size=2)) \n",
        "model.add(layers.Dropout(0.2))\n",
        "\n",
        "model.add(layers.Conv2D(64,(3,3), padding='same',activation='relu'))\n",
        "model.add(layers.Conv2D(128,(3,3), padding='same',activation='relu'))\n",
        "model.add(layers.MaxPooling2D(pool_size=2)) \n",
        "model.add(layers.Dropout(0.2))\n",
        "\n",
        "model.add(layers.Conv2D(64,(3,3), padding='same',activation='relu'))\n",
        "model.add(layers.Conv2D(64,(3,3), padding='same',activation='relu'))\n",
        "model.add(layers.MaxPooling2D(pool_size=2)) \n",
        "model.add(layers.Dropout(0.2))"
      ],
      "execution_count": 31,
      "outputs": []
    },
    {
      "cell_type": "code",
      "metadata": {
        "id": "iN9s9IT2GNWh"
      },
      "source": [
        "model.add(layers.Flatten())\n",
        "model.add(layers.Dense(512,activation='relu'))\n",
        "model.add(layers.Dropout(0.2))\n",
        "model.add(layers.Dense(64,activation='relu'))\n",
        "model.add(layers.Dropout(0.2))\n",
        "model.add(layers.Dense(10,activation='softmax'))"
      ],
      "execution_count": 32,
      "outputs": []
    },
    {
      "cell_type": "code",
      "metadata": {
        "id": "S6889plQGRZb"
      },
      "source": [
        "opt = optimizers.Adam(learning_rate=1e-4, decay=1e-6)"
      ],
      "execution_count": 33,
      "outputs": []
    },
    {
      "cell_type": "code",
      "metadata": {
        "id": "lzp4GzRLGXJS"
      },
      "source": [
        "model.compile(loss='categorical_crossentropy',\n",
        "              optimizer=opt,\n",
        "              metrics=['accuracy'])"
      ],
      "execution_count": 34,
      "outputs": []
    },
    {
      "cell_type": "code",
      "metadata": {
        "colab": {
          "base_uri": "https://localhost:8080/"
        },
        "id": "ois4YbTCGbeL",
        "outputId": "74d80cd1-96e5-43ff-9da5-19c887ada40d"
      },
      "source": [
        "model.summary()"
      ],
      "execution_count": 35,
      "outputs": [
        {
          "output_type": "stream",
          "text": [
            "Model: \"sequential_1\"\n",
            "_________________________________________________________________\n",
            "Layer (type)                 Output Shape              Param #   \n",
            "=================================================================\n",
            "conv2d_6 (Conv2D)            (None, 32, 32, 32)        896       \n",
            "_________________________________________________________________\n",
            "conv2d_7 (Conv2D)            (None, 32, 32, 32)        9248      \n",
            "_________________________________________________________________\n",
            "max_pooling2d_3 (MaxPooling2 (None, 16, 16, 32)        0         \n",
            "_________________________________________________________________\n",
            "dropout_5 (Dropout)          (None, 16, 16, 32)        0         \n",
            "_________________________________________________________________\n",
            "conv2d_8 (Conv2D)            (None, 16, 16, 64)        18496     \n",
            "_________________________________________________________________\n",
            "conv2d_9 (Conv2D)            (None, 16, 16, 128)       73856     \n",
            "_________________________________________________________________\n",
            "max_pooling2d_4 (MaxPooling2 (None, 8, 8, 128)         0         \n",
            "_________________________________________________________________\n",
            "dropout_6 (Dropout)          (None, 8, 8, 128)         0         \n",
            "_________________________________________________________________\n",
            "conv2d_10 (Conv2D)           (None, 8, 8, 64)          73792     \n",
            "_________________________________________________________________\n",
            "conv2d_11 (Conv2D)           (None, 8, 8, 64)          36928     \n",
            "_________________________________________________________________\n",
            "max_pooling2d_5 (MaxPooling2 (None, 4, 4, 64)          0         \n",
            "_________________________________________________________________\n",
            "dropout_7 (Dropout)          (None, 4, 4, 64)          0         \n",
            "_________________________________________________________________\n",
            "flatten_1 (Flatten)          (None, 1024)              0         \n",
            "_________________________________________________________________\n",
            "dense_3 (Dense)              (None, 512)               524800    \n",
            "_________________________________________________________________\n",
            "dropout_8 (Dropout)          (None, 512)               0         \n",
            "_________________________________________________________________\n",
            "dense_4 (Dense)              (None, 64)                32832     \n",
            "_________________________________________________________________\n",
            "dropout_9 (Dropout)          (None, 64)                0         \n",
            "_________________________________________________________________\n",
            "dense_5 (Dense)              (None, 10)                650       \n",
            "=================================================================\n",
            "Total params: 771,498\n",
            "Trainable params: 771,498\n",
            "Non-trainable params: 0\n",
            "_________________________________________________________________\n"
          ],
          "name": "stdout"
        }
      ]
    },
    {
      "cell_type": "code",
      "metadata": {
        "colab": {
          "base_uri": "https://localhost:8080/"
        },
        "id": "Kun4-5_BGtuT",
        "outputId": "75a4c24a-7caf-4796-9a8f-eb7563bea208"
      },
      "source": [
        "# Fitting the model\n",
        "result=model.fit(x_train,y_train,validation_data=(x_test,y_test),epochs=25,batch_size=64)"
      ],
      "execution_count": 36,
      "outputs": [
        {
          "output_type": "stream",
          "text": [
            "Epoch 1/25\n",
            "782/782 [==============================] - 10s 11ms/step - loss: 2.0881 - accuracy: 0.2095 - val_loss: 1.6244 - val_accuracy: 0.4071\n",
            "Epoch 2/25\n",
            "782/782 [==============================] - 7s 9ms/step - loss: 1.6402 - accuracy: 0.3985 - val_loss: 1.4258 - val_accuracy: 0.4841\n",
            "Epoch 3/25\n",
            "782/782 [==============================] - 7s 9ms/step - loss: 1.4831 - accuracy: 0.4644 - val_loss: 1.2715 - val_accuracy: 0.5434\n",
            "Epoch 4/25\n",
            "782/782 [==============================] - 7s 9ms/step - loss: 1.3555 - accuracy: 0.5109 - val_loss: 1.2233 - val_accuracy: 0.5608\n",
            "Epoch 5/25\n",
            "782/782 [==============================] - 7s 9ms/step - loss: 1.2553 - accuracy: 0.5535 - val_loss: 1.1250 - val_accuracy: 0.6029\n",
            "Epoch 6/25\n",
            "782/782 [==============================] - 7s 9ms/step - loss: 1.1881 - accuracy: 0.5787 - val_loss: 1.0655 - val_accuracy: 0.6188\n",
            "Epoch 7/25\n",
            "782/782 [==============================] - 7s 9ms/step - loss: 1.1365 - accuracy: 0.6035 - val_loss: 1.0082 - val_accuracy: 0.6462\n",
            "Epoch 8/25\n",
            "782/782 [==============================] - 8s 10ms/step - loss: 1.0872 - accuracy: 0.6167 - val_loss: 0.9800 - val_accuracy: 0.6503\n",
            "Epoch 9/25\n",
            "782/782 [==============================] - 7s 10ms/step - loss: 1.0294 - accuracy: 0.6365 - val_loss: 0.9379 - val_accuracy: 0.6728\n",
            "Epoch 10/25\n",
            "782/782 [==============================] - 8s 10ms/step - loss: 0.9972 - accuracy: 0.6537 - val_loss: 0.9160 - val_accuracy: 0.6745\n",
            "Epoch 11/25\n",
            "782/782 [==============================] - 7s 9ms/step - loss: 0.9571 - accuracy: 0.6663 - val_loss: 0.8912 - val_accuracy: 0.6905\n",
            "Epoch 12/25\n",
            "782/782 [==============================] - 7s 9ms/step - loss: 0.9219 - accuracy: 0.6799 - val_loss: 0.8550 - val_accuracy: 0.6998\n",
            "Epoch 13/25\n",
            "782/782 [==============================] - 7s 9ms/step - loss: 0.8870 - accuracy: 0.6915 - val_loss: 0.8458 - val_accuracy: 0.6991\n",
            "Epoch 14/25\n",
            "782/782 [==============================] - 7s 9ms/step - loss: 0.8532 - accuracy: 0.6987 - val_loss: 0.8391 - val_accuracy: 0.7033\n",
            "Epoch 15/25\n",
            "782/782 [==============================] - 7s 10ms/step - loss: 0.8333 - accuracy: 0.7107 - val_loss: 0.7998 - val_accuracy: 0.7168\n",
            "Epoch 16/25\n",
            "782/782 [==============================] - 8s 10ms/step - loss: 0.8020 - accuracy: 0.7180 - val_loss: 0.7861 - val_accuracy: 0.7243\n",
            "Epoch 17/25\n",
            "782/782 [==============================] - 8s 11ms/step - loss: 0.7940 - accuracy: 0.7225 - val_loss: 0.7615 - val_accuracy: 0.7357\n",
            "Epoch 18/25\n",
            "782/782 [==============================] - 8s 11ms/step - loss: 0.7514 - accuracy: 0.7395 - val_loss: 0.7402 - val_accuracy: 0.7426\n",
            "Epoch 19/25\n",
            "782/782 [==============================] - 8s 10ms/step - loss: 0.7449 - accuracy: 0.7395 - val_loss: 0.7316 - val_accuracy: 0.7485\n",
            "Epoch 20/25\n",
            "782/782 [==============================] - 8s 10ms/step - loss: 0.7128 - accuracy: 0.7526 - val_loss: 0.7497 - val_accuracy: 0.7415\n",
            "Epoch 21/25\n",
            "782/782 [==============================] - 8s 10ms/step - loss: 0.7068 - accuracy: 0.7519 - val_loss: 0.7222 - val_accuracy: 0.7484\n",
            "Epoch 22/25\n",
            "782/782 [==============================] - 8s 10ms/step - loss: 0.6746 - accuracy: 0.7649 - val_loss: 0.6931 - val_accuracy: 0.7624\n",
            "Epoch 23/25\n",
            "782/782 [==============================] - 8s 10ms/step - loss: 0.6603 - accuracy: 0.7685 - val_loss: 0.6814 - val_accuracy: 0.7631\n",
            "Epoch 24/25\n",
            "782/782 [==============================] - 8s 10ms/step - loss: 0.6427 - accuracy: 0.7739 - val_loss: 0.6769 - val_accuracy: 0.7679\n",
            "Epoch 25/25\n",
            "782/782 [==============================] - 8s 10ms/step - loss: 0.6271 - accuracy: 0.7815 - val_loss: 0.6927 - val_accuracy: 0.7598\n"
          ],
          "name": "stdout"
        }
      ]
    },
    {
      "cell_type": "code",
      "metadata": {
        "colab": {
          "base_uri": "https://localhost:8080/",
          "height": 621
        },
        "id": "YXSVYxseIHBF",
        "outputId": "bbd5cc14-d4fe-4705-fac7-29653e3c7bc7"
      },
      "source": [
        "plt.figure(figsize=(20, 10))\n",
        "plt.subplot(1, 2, 1)\n",
        "plt.title(\"CNN Training and Validation Accuracy\")\n",
        "plt.plot(result.history[\"accuracy\"], label='Training Accuracy')\n",
        "plt.plot(result.history['val_accuracy'], label='Validation Accuracy')\n",
        "plt.legend(loc='lower right')\n",
        "plt.ylabel('accuracy')\n",
        "plt.xlabel('epoch')\n",
        "plt.subplot(1, 2, 2)\n",
        "plt.plot( result.history[\"loss\"], label='Training Loss')\n",
        "plt.plot( result.history[\"val_loss\"], label='Validation Loss')\n",
        "plt.legend(loc='upper right')\n",
        "plt.title('CNN Training and Validation Loss')\n",
        "plt.ylabel('loss')\n",
        "plt.xlabel('epoch')\n",
        "plt.show()"
      ],
      "execution_count": 37,
      "outputs": [
        {
          "output_type": "display_data",
          "data": {
            "image/png": "[encoded data removed]",
            "text/plain": [
              "<Figure size 1440x720 with 2 Axes>"
            ]
          },
          "metadata": {
            "tags": [],
            "needs_background": "light"
          }
        }
      ]
    },
    {
      "cell_type": "code",
      "metadata": {
        "colab": {
          "base_uri": "https://localhost:8080/"
        },
        "id": "KTfywkRRIVXZ",
        "outputId": "b4a8d65c-9b6e-4c2d-b993-b4246870d615"
      },
      "source": [
        "scores = model.evaluate(x_test, y_test, verbose=1) \n",
        "print('Test loss:', scores[0])\n",
        "print('Test accuracy:', scores[1])"
      ],
      "execution_count": 38,
      "outputs": [
        {
          "output_type": "stream",
          "text": [
            "313/313 [==============================] - 1s 3ms/step - loss: 0.6927 - accuracy: 0.7598\n",
            "Test loss: 0.6926968097686768\n",
            "Test accuracy: 0.7598000168800354\n"
          ],
          "name": "stdout"
        }
      ]
    }
  ]
}