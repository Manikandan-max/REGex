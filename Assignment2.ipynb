{
 "cells": [
  {
   "cell_type": "markdown",
   "metadata": {},
   "source": [
    "## Assignment 2\n",
    "## Function, Lambda expression, Map function\n",
    "## Name: Manikandan V\n",
    "## Register Id: SIRSS1021\n",
    "## College: St. Joseph's Institute of Management"
   ]
  },
  {
   "cell_type": "markdown",
   "metadata": {},
   "source": [
    "### 1. Lambda Expression to extract first word of a string"
   ]
  },
  {
   "cell_type": "code",
   "execution_count": 20,
   "metadata": {},
   "outputs": [
    {
     "name": "stdout",
     "output_type": "stream",
     "text": [
      "Enter a string:Hello world\n"
     ]
    },
    {
     "data": {
      "text/plain": [
       "'Hello'"
      ]
     },
     "execution_count": 20,
     "metadata": {},
     "output_type": "execute_result"
    }
   ],
   "source": [
    "n=input(\"Enter a string:\")\n",
    "first_word=lambda  n: n.split()[0]\n",
    "first_word (n)"
   ]
  },
  {
   "cell_type": "markdown",
   "metadata": {},
   "source": [
    "### 2.Function to extract first word of s string"
   ]
  },
  {
   "cell_type": "code",
   "execution_count": 21,
   "metadata": {},
   "outputs": [
    {
     "name": "stdout",
     "output_type": "stream",
     "text": [
      "Enter a String:This is a function\n",
      "This\n"
     ]
    }
   ],
   "source": [
    "def first_word (s):\n",
    "    n=s.split()[0]\n",
    "    print(n)\n",
    "k=input(\"Enter a String:\")\n",
    "first_word(k)"
   ]
  },
  {
   "cell_type": "markdown",
   "metadata": {},
   "source": [
    "### 3.Extract first word using map function"
   ]
  },
  {
   "cell_type": "code",
   "execution_count": 22,
   "metadata": {},
   "outputs": [
    {
     "name": "stdout",
     "output_type": "stream",
     "text": [
      "['Hello', 'This', 'share']\n"
     ]
    }
   ],
   "source": [
    "list1=['Hello world','This is list','share information']\n",
    "a=lambda list1:list1.split()[0]\n",
    "print(list(map(a,list1)))"
   ]
  },
  {
   "cell_type": "markdown",
   "metadata": {},
   "source": [
    "### 4.Function to return prime factors of given number"
   ]
  },
  {
   "cell_type": "code",
   "execution_count": 23,
   "metadata": {},
   "outputs": [
    {
     "name": "stdout",
     "output_type": "stream",
     "text": [
      "Enter a number:58\n",
      "2\n",
      "29.0\n"
     ]
    }
   ],
   "source": [
    "import math\n",
    "def prime_factors(num):  \n",
    "    \n",
    "    while num % 2 == 0:  \n",
    "        print(2,)  \n",
    "        num = num / 2  \n",
    "  \n",
    "    for i in range(3, int(math.sqrt(num)) + 1, 2):  \n",
    "  \n",
    "        \n",
    "        while num % i == 0:  \n",
    "            print(i,)  \n",
    "            num = num / i  \n",
    "    if num > 2:  \n",
    "        print(num)  \n",
    " \n",
    "  \n",
    "num = int(input(\"Enter a number:\")) \n",
    "prime_factors(num)  "
   ]
  },
  {
   "cell_type": "markdown",
   "metadata": {},
   "source": [
    "### 5. Function to find second largest number"
   ]
  },
  {
   "cell_type": "code",
   "execution_count": 24,
   "metadata": {},
   "outputs": [
    {
     "name": "stdout",
     "output_type": "stream",
     "text": [
      "Enter number of elements in list: 4\n",
      "Enter elements: 23\n",
      "Enter elements: 43\n",
      "Enter elements: 12\n",
      "Enter elements: 65\n",
      "43\n"
     ]
    }
   ],
   "source": [
    "def second_largest(list1):\n",
    "    new_list = set(list1)\n",
    "    new_list.remove(max(new_list))\n",
    "    print(max(new_list))\n",
    "list1=[]\n",
    "num = int(input(\"Enter number of elements in list: \"))\n",
    "for i in range(1, num + 1):\n",
    "    e = int(input(\"Enter elements: \"))\n",
    "    list1.append(e)\n",
    "second_largest(list1)"
   ]
  }
 ],
 "metadata": {
  "kernelspec": {
   "display_name": "Python 3",
   "language": "python",
   "name": "python3"
  },
  "language_info": {
   "codemirror_mode": {
    "name": "ipython",
    "version": 3
   },
   "file_extension": ".py",
   "mimetype": "text/x-python",
   "name": "python",
   "nbconvert_exporter": "python",
   "pygments_lexer": "ipython3",
   "version": "3.8.5"
  }
 },
 "nbformat": 4,
 "nbformat_minor": 4
}
