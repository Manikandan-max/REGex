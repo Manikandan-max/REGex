{
 "cells": [
  {
   "cell_type": "markdown",
   "metadata": {},
   "source": [
    "## Assignment 1 Pattern Programming\n",
    "##Registeration i'd : SIRSS1021\n",
    "Name: Manikandan V\n",
    "College : St.Joseph's Institute of Management\n"
   ]
  },
  {
   "cell_type": "code",
   "execution_count": 1,
   "metadata": {},
   "outputs": [
    {
     "name": "stdout",
     "output_type": "stream",
     "text": [
      "Enter the number:5\n",
      "5 5 5 5 5 \n",
      "5 5 5 5 \n",
      "5 5 5 \n",
      "5 5 \n",
      "5 \n",
      "\n"
     ]
    }
   ],
   "source": [
    "## Printing Downward Pyramid\n",
    "n=int(input(\"Enter the number:\"))\n",
    "for i in range(n+1,0,-1):\n",
    "    for j in range(0,i-1):\n",
    "        print(\"5\",end=' ')\n",
    "    print()"
   ]
  },
  {
   "cell_type": "code",
   "execution_count": 14,
   "metadata": {},
   "outputs": [
    {
     "name": "stdout",
     "output_type": "stream",
     "text": [
      "0 1 2 3 4 5 \r\n",
      "0 1 2 3 4 \r\n",
      "0 1 2 3 \r\n",
      "0 1 2 \r\n",
      "0 1 \r\n"
     ]
    }
   ],
   "source": [
    "## Printing numbers in Downward Half\n",
    "def pattern(n):\n",
    "    for i in range(n+1,1,-1):\n",
    "        for j in range(0,i):\n",
    "            print(j,end=' ')\n",
    "        print(\"\\r\")\n",
    "pattern(5)"
   ]
  },
  {
   "cell_type": "code",
   "execution_count": 15,
   "metadata": {},
   "outputs": [
    {
     "name": "stdout",
     "output_type": "stream",
     "text": [
      "Enter the number:5\n",
      "1 \n",
      "3 3 \n",
      "5 5 5 \n",
      "7 7 7 7 \n",
      "9 9 9 9 9 \n"
     ]
    }
   ],
   "source": [
    "## Printing Odd numbers in Upward \n",
    "n = int(input(\"Enter the number:\"))\n",
    "i = 1\n",
    "while i <= n:\n",
    "    j = 1\n",
    "    while j <= i:\n",
    "        print((i * 2 - 1), end=\" \")\n",
    "        j = j + 1\n",
    "    i = i + 1\n",
    "    print('')\n"
   ]
  },
  {
   "cell_type": "code",
   "execution_count": 26,
   "metadata": {},
   "outputs": [
    {
     "name": "stdout",
     "output_type": "stream",
     "text": [
      "Enter the number:5\n",
      "1 \n",
      "2 1 \n",
      "3 2 1 \n",
      "4 3 2 1 \n",
      "5 4 3 2 1 \n"
     ]
    }
   ],
   "source": [
    "## Printing numbers in Upward  \n",
    "n=int(input(\"Enter the number:\"))\n",
    "for i in range(0,n):\n",
    "    for j in range(i+1,0,-1):\n",
    "        print(j,end=' ')\n",
    "    print()"
   ]
  },
  {
   "cell_type": "code",
   "execution_count": 27,
   "metadata": {},
   "outputs": [
    {
     "name": "stdout",
     "output_type": "stream",
     "text": [
      "1 \n",
      "3 2 \n",
      "6 5 4 \n",
      "10 9 8 7 \n"
     ]
    }
   ],
   "source": [
    "## Printing Reverse order\n",
    "start = 1\n",
    "stop = 2\n",
    "current_num = stop\n",
    "for row in range(2, 6):\n",
    "    for col in range(start, stop):\n",
    "        current_num -= 1\n",
    "        print(current_num, end=' ')\n",
    "    print(\"\")\n",
    "    start = stop\n",
    "    stop += row\n",
    "    current_num = stop"
   ]
  },
  {
   "cell_type": "code",
   "execution_count": 40,
   "metadata": {},
   "outputs": [
    {
     "name": "stdout",
     "output_type": "stream",
     "text": [
      "1 \n",
      "1 1 \n",
      "1 2 1 \n",
      "1 3 3 1 \n",
      "1 4 6 4 1 \n",
      "1 5 10 10 5 1 \n",
      "1 6 15 20 15 6 1 \n",
      "None\n",
      "\n"
     ]
    }
   ],
   "source": [
    "## Printing Pascal's triangle\n",
    "def pascal(s):\n",
    "    for i in range(0, s):\n",
    "        for j in range(0, i + 1):\n",
    "            print(decide_number(i, j), end=\" \")\n",
    "        print()\n",
    "\n",
    "\n",
    "def decide_number(n, k):\n",
    "    num = 1\n",
    "    if k > n - k:\n",
    "        k = n - k\n",
    "    for i in range(0, k):\n",
    "        num = num * (n - i)\n",
    "        num = num // (i + 1)\n",
    "    return num\n",
    "\n",
    "# set rows\n",
    "rows = 7\n",
    "print(pascal(rows))\n",
    "print()\n",
    "\n"
   ]
  },
  {
   "cell_type": "code",
   "execution_count": 41,
   "metadata": {},
   "outputs": [
    {
     "name": "stdout",
     "output_type": "stream",
     "text": [
      "1 2 3 4 5 \n",
      "2 2 3 4 5 \n",
      "3 3 3 4 5 \n",
      "4 4 4 4 5 \n",
      "5 5 5 5 5 \n"
     ]
    }
   ],
   "source": [
    "#Printing Square number \n",
    "r = 5\n",
    "for i in range(1, r + 1):\n",
    "    for j in range(1, r + 1):\n",
    "        if j <= i:\n",
    "            print(i, end=' ')\n",
    "        else:\n",
    "            print(j, end=' ')\n",
    "    print()\n"
   ]
  },
  {
   "cell_type": "code",
   "execution_count": 44,
   "metadata": {},
   "outputs": [
    {
     "name": "stdout",
     "output_type": "stream",
     "text": [
      "Enter the number of rows 8\n",
      "1  \n",
      "2  4  \n",
      "3  6  9  \n",
      "4  8  12  16  \n",
      "5  10  15  20  25  \n",
      "6  12  18  24  30  36  \n",
      "7  14  21  28  35  42  49  \n",
      "8  16  24  32  40  48  56  64  \n"
     ]
    }
   ],
   "source": [
    "#Printing Multiplication Table\n",
    "\n",
    "n = int(input(\"Enter the number of rows \"))\n",
    "for i in range(1, n + 1):\n",
    "    for j in range(1, i + 1):\n",
    "        \n",
    "        square = i * j\n",
    "        print(i * j, end='  ')\n",
    "    print()\n"
   ]
  },
  {
   "cell_type": "code",
   "execution_count": 46,
   "metadata": {},
   "outputs": [
    {
     "name": "stdout",
     "output_type": "stream",
     "text": [
      "Enter the number of rows: 5\n",
      "   * * * * * * \n",
      "    * * * * * \n",
      "     * * * * \n",
      "      * * * \n",
      "       * * \n",
      "        * \n"
     ]
    }
   ],
   "source": [
    "# Downward triangle pattern \n",
    "rows = int(input(\"Enter the number of rows: \"))  \n",
    "k = r - 2  \n",
    " \n",
    "for i in range(r, -1 , -1):  \n",
    "    for j in range(k , 0 , -1):  \n",
    "        print(end=\" \")  \n",
    "    k = k + 1  \n",
    "    for j in range(0, i+1):  \n",
    "        print(\"* \" , end=\"\")  \n",
    "    print()  "
   ]
  },
  {
   "cell_type": "code",
   "execution_count": 48,
   "metadata": {},
   "outputs": [
    {
     "name": "stdout",
     "output_type": "stream",
     "text": [
      "Enter the number of rows: 7\n",
      "            *   \n",
      "           *  *   \n",
      "          *  *  *   \n",
      "         *  *  *  *   \n",
      "        *  *  *  *  *   \n",
      "       *  *  *  *  *  *   \n",
      "      *  *  *  *  *  *  *   \n"
     ]
    }
   ],
   "source": [
    "# Printing Triangle Pyramid\n",
    "n = int(input(\"Enter the number of rows: \"))  \n",
    "m = (2 * n) - 2  \n",
    "for i in range(0, n):  \n",
    "    for j in range(0, m):  \n",
    "        print(end=\" \")  \n",
    "    m = m - 1    \n",
    "    for j in range(0, i + 1):  \n",
    "          \n",
    "        print(\"* \", end=' ')  \n",
    "    print(\" \")  "
   ]
  },
  {
   "cell_type": "code",
   "execution_count": 54,
   "metadata": {},
   "outputs": [
    {
     "name": "stdout",
     "output_type": "stream",
     "text": [
      "Enter the number of rows: 5\n",
      "*  \n",
      "* *  \n",
      "* * *  \n",
      "* * * *  \n",
      "* * * * *  \n",
      "\n",
      "* * * * *  \n",
      "* * * *  \n",
      "* * *  \n",
      "* *  \n",
      "*  \n",
      " \n"
     ]
    }
   ],
   "source": [
    "rows = int(input(\"Enter the number of rows: \"))  \n",
    "  \n",
    "# Outer loop will print the number of rows  \n",
    "for i in range(0, rows):  \n",
    "    # This inner loop will print the stars  \n",
    "    for j in range(0, i + 1):  \n",
    "        print(\"*\", end=' ')  \n",
    "    # Change line after each iteration  \n",
    "    print(\" \")  \n",
    "    \n",
    "print()\n",
    "# For second pattern  \n",
    "for i in range(rows + 1, 0, -1):  \n",
    "    for j in range(0, i - 1):  \n",
    "        print(\"*\", end=' ')  \n",
    "    print(\" \")  "
   ]
  },
  {
   "cell_type": "code",
   "execution_count": 56,
   "metadata": {},
   "outputs": [
    {
     "name": "stdout",
     "output_type": "stream",
     "text": [
      "Enter the number of rows: 5\n",
      "*  \n",
      "* *  \n",
      "* * *  \n",
      "* * * *  \n",
      "* * * * *  \n",
      "* * * *  \n",
      "* * *  \n",
      "* *  \n",
      "*  \n",
      " \n",
      " \n"
     ]
    }
   ],
   "source": [
    "rows =int(input(\"Enter the number of rows: \"))  \n",
    "    \n",
    "for i in range(0, rows):  \n",
    "    \n",
    "    for j in range(0, i + 1):  \n",
    "        print(\"*\", end=' ')  \n",
    "    \n",
    "    print(\" \")  \n",
    "# For second pattern  \n",
    "for i in range(rows + 1, 0, -1):  \n",
    "    for j in range(0, i - 2):  \n",
    "        print(\"*\", end=' ')  \n",
    "    print(\" \")  "
   ]
  },
  {
   "cell_type": "code",
   "execution_count": 84,
   "metadata": {},
   "outputs": [
    {
     "name": "stdout",
     "output_type": "stream",
     "text": [
      "        * \r\n",
      "      * * \r\n",
      "    * * * \r\n",
      "  * * * * \r\n",
      "* * * * * \r\n",
      "  * * * * \r\n",
      "    * * * \r\n",
      "      * * \r\n",
      "        * \r\n",
      "          \r\n"
     ]
    }
   ],
   "source": [
    "#Printing in single pattern\n",
    "\n",
    "def pypart2(n):\n",
    "    k = 2*n - 2\n",
    "    for i in range(0, n):\n",
    "        for j in range(0, k):\n",
    "            \n",
    "            print(end=\" \")\n",
    "\n",
    "        k = k - 2\n",
    "\n",
    "        for j in range(0, i+1):\n",
    "                \n",
    "                print(\"* \", end=\"\")\n",
    "        print (\"\\r\")\n",
    "    \n",
    "    m=4\n",
    "    for i in range(m+1,0,-1 ):\n",
    "        for j in range(k,0):\n",
    "            \n",
    "            print(end=\" \")\n",
    "\n",
    "        k = k - 2\n",
    "\n",
    "        for j in range(1, i):\n",
    "                \n",
    "                print(\"* \", end=\"\")\n",
    "        print (\"\\r\")\n",
    "\n",
    "\n",
    "n = 5\n",
    "pypart2(n)\n"
   ]
  },
  {
   "cell_type": "code",
   "execution_count": 90,
   "metadata": {},
   "outputs": [
    {
     "name": "stdout",
     "output_type": "stream",
     "text": [
      "Enter the number of rows: 5\n",
      "   * * * * * * \n",
      "    * * * * * \n",
      "     * * * * \n",
      "      * * * \n",
      "       * * \n",
      "        * \n",
      "        * \n",
      "       * * \n",
      "      * * * \n",
      "     * * * * \n",
      "    * * * * * \n",
      "   * * * * * * \n"
     ]
    }
   ],
   "source": [
    "#printing Hourglass\n",
    "rows = int(input(\"Enter the number of rows: \"))  \n",
    "k = rows - 2  \n",
    "  \n",
    "for i in range(rows, -1 , -1):  \n",
    "    for j in range(k , 0 , -1):  \n",
    "        print(end=\" \")  \n",
    "    k = k + 1  \n",
    "    for j in range(0, i+1):  \n",
    "        print(\"* \" , end=\"\")  \n",
    "    print()  \n",
    "k = 2 * rows  - 2  \n",
    "for i in range(0 , rows+1):  \n",
    "    for j in range(0 , k):  \n",
    "        print(end=\" \")  \n",
    "    k = k - 1  \n",
    "    for j in range(0, i + 1):  \n",
    "        print(\"* \", end=\"\")  \n",
    "    print()  "
   ]
  },
  {
   "cell_type": "code",
   "execution_count": 105,
   "metadata": {},
   "outputs": [
    {
     "name": "stdout",
     "output_type": "stream",
     "text": [
      "Enter no:8\n",
      "****************\n",
      "*******__*******\n",
      "******____******\n",
      "*****______*****\n",
      "****________****\n",
      "***__________***\n",
      "**____________**\n",
      "*______________*\n"
     ]
    }
   ],
   "source": [
    "# Printing Mirror Image\n",
    "n=int(input(\"Enter no:\"))\n",
    "for a in range(n,0,-1):\n",
    "    for b in range(1,a+1):\n",
    "        print(\"*\",end='')\n",
    "    for s in range(n-a):\n",
    "        print(\"__\",end=\"\")\n",
    "    for c in range(0,a):\n",
    "        print(\"*\",end=\"\")\n",
    "    print()"
   ]
  }
 ],
 "metadata": {
  "kernelspec": {
   "display_name": "Python 3",
   "language": "python",
   "name": "python3"
  },
  "language_info": {
   "codemirror_mode": {
    "name": "ipython",
    "version": 3
   },
   "file_extension": ".py",
   "mimetype": "text/x-python",
   "name": "python",
   "nbconvert_exporter": "python",
   "pygments_lexer": "ipython3",
   "version": "3.8.5"
  }
 },
 "nbformat": 4,
 "nbformat_minor": 4
}
